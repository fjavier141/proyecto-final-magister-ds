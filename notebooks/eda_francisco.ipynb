{
 "cells": [
  {
   "cell_type": "markdown",
   "metadata": {
    "colab_type": "text",
    "id": "view-in-github"
   },
   "source": [
    "<a href=\"https://colab.research.google.com/github/fjavier141/proyecto-final-magister-ds/blob/main/exploracion_inicial.ipynb\" target=\"_parent\"><img src=\"https://colab.research.google.com/assets/colab-badge.svg\" alt=\"Open In Colab\"/></a>"
   ]
  },
  {
   "cell_type": "code",
   "execution_count": 2,
   "metadata": {
    "colab": {
     "base_uri": "https://localhost:8080/"
    },
    "id": "njl22tiPGmzF",
    "outputId": "99e9b405-abeb-44d7-f1fd-9f8b3845b22f"
   },
   "outputs": [
    {
     "name": "stdout",
     "output_type": "stream",
     "text": [
      "✅ Conectado a: PostgreSQL 15.13 (Debian 15.13-1.pgdg120+1) on x86_64-pc-linux-gnu, compiled by gcc (Debian 12.2.0-14) 12.2.0, 64-bit\n"
     ]
    }
   ],
   "source": [
    "import os\n",
    "\n",
    "import pandas as pd\n",
    "import numpy as np\n",
    "from dotenv import load_dotenv\n",
    "from pathlib import Path\n",
    "from sqlalchemy import create_engine, text\n",
    "\n",
    "ROOT = Path().resolve().parent\n",
    "load_dotenv(dotenv_path=ROOT / \".env\")\n",
    "\n",
    "# Parámetros de conexión (ajusta a tu entorno)\n",
    "USER = os.getenv(\"POSTGRES_USER\")\n",
    "PASSWORD = os.getenv(\"POSTGRES_PASSWORD\")\n",
    "HOST = os.getenv(\"POSTGRES_HOST\")\n",
    "PORT = os.getenv(\"POSTGRES_PORT\", \"5432\")\n",
    "DB = os.getenv(\"POSTGRES_DB\")\n",
    "\n",
    "# Crea el motor SQLAlchemy\n",
    "engine = create_engine(f\"postgresql+psycopg2://{USER}:{PASSWORD}@{HOST}:{PORT}/{DB}\")\n",
    "\n",
    "# Test de conexión\n",
    "try:\n",
    "    with engine.connect() as conn:\n",
    "        version = conn.execute(text(\"SELECT version();\"))\n",
    "        print(\"✅ Conectado a:\", list(version)[0][0])\n",
    "except Exception as e:\n",
    "    print(\"❌ Error al conectar:\", e)\n"
   ]
  },
  {
   "cell_type": "code",
   "execution_count": 4,
   "metadata": {},
   "outputs": [],
   "source": [
    "#Extracción data dimensional\n",
    "with engine.connect() as conn:\n",
    "    clientes = pd.read_sql(text(\"SELECT id_cliente, id_barrio, id_comuna, segmento, canal, descr_flag_patente FROM stg.base_clientes;\"), conn)\n",
    "\n",
    "with engine.connect() as conn:\n",
    "    barrios = pd.read_sql(text(\"SELECT id_barrio, indice_gse, n_habitantes, n_ptos_interes, superficie_km2, densidad_hab FROM stg.info_distritos;\"), conn)    \n",
    "\n",
    "with engine.connect() as conn:\n",
    "    macro_vars = pd.read_sql(text(\"SELECT id_periodo, uf, dolar, ipc, imacec, tpm, tasa_desempleo FROM stg.datos_macro;\"), conn) \n",
    "    \n"
   ]
  },
  {
   "cell_type": "code",
   "execution_count": 5,
   "metadata": {},
   "outputs": [],
   "source": [
    "#Extracción venta cervezas\n",
    "\n",
    "with engine.connect() as conn:\n",
    "    ventas_cervezas = pd.read_sql(text(\"SELECT id_categoria, id_cliente, id_periodo, tipo_mix, id_sku_venta, liq_um FROM stg.venta_historica WHERE id_categoria=1;\"), conn)"
   ]
  },
  {
   "cell_type": "code",
   "execution_count": 8,
   "metadata": {},
   "outputs": [
    {
     "name": "stdout",
     "output_type": "stream",
     "text": [
      "   id_categoria  id_cliente  id_periodo tipo_mix  id_sku_venta   liq_um\n",
      "0             1      719703      201811   MASIVO        450607  0.75600\n",
      "1             1      719703      201811   MASIVO        450640  0.11760\n",
      "2             1      719703      201811   MASIVO        450676  0.41748\n",
      "3             1      719703      201811  PREMIUM          7485  0.11088\n",
      "4             1      719703      201811  PREMIUM          7493  0.27720\n",
      "<class 'pandas.core.frame.DataFrame'>\n",
      "RangeIndex: 28327324 entries, 0 to 28327323\n",
      "Data columns (total 6 columns):\n",
      " #   Column        Dtype  \n",
      "---  ------        -----  \n",
      " 0   id_categoria  int64  \n",
      " 1   id_cliente    int64  \n",
      " 2   id_periodo    int64  \n",
      " 3   tipo_mix      object \n",
      " 4   id_sku_venta  int64  \n",
      " 5   liq_um        float64\n",
      "dtypes: float64(1), int64(4), object(1)\n",
      "memory usage: 1.3+ GB\n",
      "None\n"
     ]
    }
   ],
   "source": [
    "# Preprocesamiento\n",
    "\n",
    "print(ventas_cervezas.head())\n",
    "print(ventas_cervezas.info())\n"
   ]
  }
 ],
 "metadata": {
  "colab": {
   "authorship_tag": "ABX9TyM0McJe3kJIcjBWfFelJeT0",
   "include_colab_link": true,
   "provenance": []
  },
  "kernelspec": {
   "display_name": "Python 3 (ipykernel)",
   "language": "python",
   "name": "python3"
  },
  "language_info": {
   "codemirror_mode": {
    "name": "ipython",
    "version": 3
   },
   "file_extension": ".py",
   "mimetype": "text/x-python",
   "name": "python",
   "nbconvert_exporter": "python",
   "pygments_lexer": "ipython3",
   "version": "3.12.10"
  }
 },
 "nbformat": 4,
 "nbformat_minor": 4
}
